{
 "metadata": {
  "name": "",
  "signature": "sha256:e0a3e53484904ba571c169f157627ec05644bb2c5b06f1f4798022fbbb43b924"
 },
 "nbformat": 3,
 "nbformat_minor": 0,
 "worksheets": [
  {
   "cells": [
    {
     "cell_type": "code",
     "collapsed": false,
     "input": [
      "import spacy \n",
      "import pandas as pd \n",
      "import numpy as np \n",
      "from collections import Counter \n",
      "from glob import glob\n",
      "import matplotlib.pyplot as plt \n",
      "from sklearn.decomposition import TruncatedSVD\n",
      "from sklearn.feature_extraction.text import TfidfVectorizer "
     ],
     "language": "python",
     "metadata": {},
     "outputs": [],
     "prompt_number": 5
    },
    {
     "cell_type": "code",
     "collapsed": false,
     "input": [
      "from pylab import rcParams\n",
      "rcParams['figure.figsize'] = 16, 8\n",
      "%matplotlib inline"
     ],
     "language": "python",
     "metadata": {},
     "outputs": [],
     "prompt_number": 6
    },
    {
     "cell_type": "code",
     "collapsed": false,
     "input": [
      "# Load the English Models provided in spacy package\n",
      "nlp = spacy.load('en')\n",
      "\n",
      "# Load the data\n",
      "grail = nlp(open(\"laptop1.txt\").read())\n",
      "pride = nlp(open(\"laptop2.txt\").read())"
     ],
     "language": "python",
     "metadata": {},
     "outputs": [],
     "prompt_number": 7
    },
    {
     "cell_type": "code",
     "collapsed": false,
     "input": [
      "pride[0]"
     ],
     "language": "python",
     "metadata": {},
     "outputs": [
      {
       "metadata": {},
       "output_type": "pyout",
       "prompt_number": 17,
       "text": [
        "Recently, quite a few exciting gaming laptops launched that"
       ]
      }
     ],
     "prompt_number": 17
    },
    {
     "cell_type": "code",
     "collapsed": false,
     "input": [
      "pride[:10]"
     ],
     "language": "python",
     "metadata": {},
     "outputs": [
      {
       "metadata": {},
       "output_type": "pyout",
       "prompt_number": 18,
       "text": [
        "Recently, quite a few exciting gaming laptops launched that"
       ]
      }
     ],
     "prompt_number": 18
    },
    {
     "cell_type": "code",
     "collapsed": false,
     "input": [
      "list(pride.sents)"
     ],
     "language": "python",
     "metadata": {},
     "outputs": [
      {
       "ename": "ValueError",
       "evalue": "sentence boundary detection requires the dependency parse, which requires data to be installed. If you haven't done so, run: \npython -m spacy.en.download all\nto install the data",
       "output_type": "pyerr",
       "traceback": [
        "\u001b[0;31m---------------------------------------------------------------------------\u001b[0m\n\u001b[0;31mValueError\u001b[0m                                Traceback (most recent call last)",
        "\u001b[0;32m<ipython-input-20-8f1c6cabc77c>\u001b[0m in \u001b[0;36m<module>\u001b[0;34m()\u001b[0m\n\u001b[0;32m----> 1\u001b[0;31m \u001b[0mlist\u001b[0m\u001b[0;34m(\u001b[0m\u001b[0mpride\u001b[0m\u001b[0;34m.\u001b[0m\u001b[0msents\u001b[0m\u001b[0;34m)\u001b[0m\u001b[0;34m\u001b[0m\u001b[0m\n\u001b[0m",
        "\u001b[0;32m/usr/local/lib/python3.5/dist-packages/spacy/tokens/doc.cpython-35m-x86_64-linux-gnu.so\u001b[0m in \u001b[0;36m__get__ (spacy/tokens/doc.cpp:9669)\u001b[0;34m()\u001b[0m\n",
        "\u001b[0;31mValueError\u001b[0m: sentence boundary detection requires the dependency parse, which requires data to be installed. If you haven't done so, run: \npython -m spacy.en.download all\nto install the data"
       ]
      }
     ],
     "prompt_number": 20
    },
    {
     "cell_type": "code",
     "collapsed": false,
     "input": [
      "[prop for prop in dir(pride[4]) if not prop.startswith('_')]"
     ],
     "language": "python",
     "metadata": {},
     "outputs": [
      {
       "metadata": {},
       "output_type": "pyout",
       "prompt_number": 26,
       "text": [
        "['ancestors',\n",
        " 'check_flag',\n",
        " 'children',\n",
        " 'cluster',\n",
        " 'conjuncts',\n",
        " 'dep',\n",
        " 'dep_',\n",
        " 'doc',\n",
        " 'ent_id',\n",
        " 'ent_id_',\n",
        " 'ent_iob',\n",
        " 'ent_iob_',\n",
        " 'ent_type',\n",
        " 'ent_type_',\n",
        " 'has_repvec',\n",
        " 'has_vector',\n",
        " 'head',\n",
        " 'i',\n",
        " 'idx',\n",
        " 'is_alpha',\n",
        " 'is_ancestor',\n",
        " 'is_ancestor_of',\n",
        " 'is_ascii',\n",
        " 'is_bracket',\n",
        " 'is_digit',\n",
        " 'is_left_punct',\n",
        " 'is_lower',\n",
        " 'is_oov',\n",
        " 'is_punct',\n",
        " 'is_quote',\n",
        " 'is_right_punct',\n",
        " 'is_space',\n",
        " 'is_stop',\n",
        " 'is_title',\n",
        " 'lang',\n",
        " 'lang_',\n",
        " 'left_edge',\n",
        " 'lefts',\n",
        " 'lemma',\n",
        " 'lemma_',\n",
        " 'lex_id',\n",
        " 'like_email',\n",
        " 'like_num',\n",
        " 'like_url',\n",
        " 'lower',\n",
        " 'lower_',\n",
        " 'n_lefts',\n",
        " 'n_rights',\n",
        " 'nbor',\n",
        " 'norm',\n",
        " 'norm_',\n",
        " 'orth',\n",
        " 'orth_',\n",
        " 'pos',\n",
        " 'pos_',\n",
        " 'prefix',\n",
        " 'prefix_',\n",
        " 'prob',\n",
        " 'rank',\n",
        " 'repvec',\n",
        " 'right_edge',\n",
        " 'rights',\n",
        " 'sentiment',\n",
        " 'shape',\n",
        " 'shape_',\n",
        " 'similarity',\n",
        " 'string',\n",
        " 'subtree',\n",
        " 'suffix',\n",
        " 'suffix_',\n",
        " 'tag',\n",
        " 'tag_',\n",
        " 'text',\n",
        " 'text_with_ws',\n",
        " 'vector',\n",
        " 'vector_norm',\n",
        " 'vocab',\n",
        " 'whitespace_']"
       ]
      }
     ],
     "prompt_number": 26
    },
    {
     "cell_type": "code",
     "collapsed": false,
     "input": [
      "pride[3].i"
     ],
     "language": "python",
     "metadata": {},
     "outputs": [
      {
       "metadata": {},
       "output_type": "pyout",
       "prompt_number": 35,
       "text": [
        "3"
       ]
      }
     ],
     "prompt_number": 35
    },
    {
     "cell_type": "code",
     "collapsed": false,
     "input": [
      "def locations(neddle, haystack):\n",
      "    ## Collect all locations \n",
      "    return pd.Series(np.histogram([word.i for word in haystack if word.text.lower() == neddle], bins=50)[0])"
     ],
     "language": "python",
     "metadata": {},
     "outputs": [],
     "prompt_number": 42
    },
    {
     "cell_type": "code",
     "collapsed": false,
     "input": [],
     "language": "python",
     "metadata": {},
     "outputs": []
    },
    {
     "cell_type": "code",
     "collapsed": false,
     "input": [],
     "language": "python",
     "metadata": {},
     "outputs": []
    },
    {
     "cell_type": "code",
     "collapsed": false,
     "input": [
      "rcParams['figure.figsize'] = 16, 8"
     ],
     "language": "python",
     "metadata": {},
     "outputs": [],
     "prompt_number": 37
    },
    {
     "cell_type": "code",
     "collapsed": false,
     "input": [
      "pd.DataFrame({name:locations(name, pride) for name in ['a', 'the']}).plot(subplots=True)"
     ],
     "language": "python",
     "metadata": {},
     "outputs": [
      {
       "metadata": {},
       "output_type": "pyout",
       "prompt_number": 43,
       "text": [
        "array([<matplotlib.axes._subplots.AxesSubplot object at 0x7f96bd84dcc0>,\n",
        "       <matplotlib.axes._subplots.AxesSubplot object at 0x7f96bdac8240>], dtype=object)"
       ]
      },
      {
       "metadata": {},
       "output_type": "display_data",
       "png": "[encoded data removed]",
       "text": [
        "<matplotlib.figure.Figure at 0x7f96bd84d358>"
       ]
      }
     ],
     "prompt_number": 43
    },
    {
     "cell_type": "code",
     "collapsed": false,
     "input": [
      "pride.ents"
     ],
     "language": "python",
     "metadata": {},
     "outputs": [
      {
       "metadata": {},
       "output_type": "pyout",
       "prompt_number": 48,
       "text": [
        "()"
       ]
      }
     ],
     "prompt_number": 48
    },
    {
     "cell_type": "code",
     "collapsed": false,
     "input": [
      "tagDict = {w.pos: w.pos_ for w in pride}\n",
      "tagDict"
     ],
     "language": "python",
     "metadata": {},
     "outputs": [
      {
       "metadata": {},
       "output_type": "pyout",
       "prompt_number": 50,
       "text": [
        "{0: '', 98: 'VERB', 84: 'ADV', 101: 'SPACE', 93: 'PRON'}"
       ]
      }
     ],
     "prompt_number": 50
    },
    {
     "cell_type": "code",
     "collapsed": false,
     "input": [
      "grailPOS = pd.Series(grail.count_by(spacy.attrs.POS))/len(grail)\n",
      "pridePOS = pd.Series(pride.count_by(spacy.attrs.POS))/len(grail)\n",
      "\n",
      "rcParams['figure.figsize'] = 16,8\n",
      "df = pd.DataFrame([grailPOS, pridePOS], index=['Grail','Pride'])\n",
      "df.columns = [tagDict[column] for column in df.columns]\n",
      "df.T.plot(kind='bar')"
     ],
     "language": "python",
     "metadata": {},
     "outputs": [
      {
       "metadata": {},
       "output_type": "pyout",
       "prompt_number": 51,
       "text": [
        "<matplotlib.axes._subplots.AxesSubplot at 0x7f96b99c5128>"
       ]
      },
      {
       "metadata": {},
       "output_type": "display_data",
       "png": "[encoded data removed]",
       "text": [
        "<matplotlib.figure.Figure at 0x7f96b99ccb00>"
       ]
      }
     ],
     "prompt_number": 51
    },
    {
     "cell_type": "code",
     "collapsed": false,
     "input": [
      "list(pride.sents)\n",
      "    # list(pride.sents)\n",
      "#robinSents = [sent for sent in grail.sents if 'Sir Robin' in sent.string]"
     ],
     "language": "python",
     "metadata": {},
     "outputs": [
      {
       "ename": "ValueError",
       "evalue": "sentence boundary detection requires the dependency parse, which requires data to be installed. If you haven't done so, run: \npython -m spacy.en.download all\nto install the data",
       "output_type": "pyerr",
       "traceback": [
        "\u001b[0;31m---------------------------------------------------------------------------\u001b[0m\n\u001b[0;31mValueError\u001b[0m                                Traceback (most recent call last)",
        "\u001b[0;32m<ipython-input-66-82ece57580ee>\u001b[0m in \u001b[0;36m<module>\u001b[0;34m()\u001b[0m\n\u001b[0;32m----> 1\u001b[0;31m \u001b[0mlist\u001b[0m\u001b[0;34m(\u001b[0m\u001b[0mpride\u001b[0m\u001b[0;34m.\u001b[0m\u001b[0msents\u001b[0m\u001b[0;34m)\u001b[0m\u001b[0;34m\u001b[0m\u001b[0m\n\u001b[0m\u001b[1;32m      2\u001b[0m     \u001b[0;31m# list(pride.sents)\u001b[0m\u001b[0;34m\u001b[0m\u001b[0;34m\u001b[0m\u001b[0m\n\u001b[1;32m      3\u001b[0m \u001b[0;31m#robinSents = [sent for sent in grail.sents if 'Sir Robin' in sent.string]\u001b[0m\u001b[0;34m\u001b[0m\u001b[0;34m\u001b[0m\u001b[0m\n",
        "\u001b[0;32m/usr/local/lib/python3.5/dist-packages/spacy/tokens/doc.cpython-35m-x86_64-linux-gnu.so\u001b[0m in \u001b[0;36m__get__ (spacy/tokens/doc.cpp:9669)\u001b[0;34m()\u001b[0m\n",
        "\u001b[0;31mValueError\u001b[0m: sentence boundary detection requires the dependency parse, which requires data to be installed. If you haven't done so, run: \npython -m spacy.en.download all\nto install the data"
       ]
      }
     ],
     "prompt_number": 66
    },
    {
     "cell_type": "code",
     "collapsed": false,
     "input": [],
     "language": "python",
     "metadata": {},
     "outputs": []
    },
    {
     "cell_type": "code",
     "collapsed": false,
     "input": [],
     "language": "python",
     "metadata": {},
     "outputs": [],
     "prompt_number": 65
    },
    {
     "cell_type": "code",
     "collapsed": false,
     "input": [],
     "language": "python",
     "metadata": {},
     "outputs": [],
     "prompt_number": 65
    },
    {
     "cell_type": "code",
     "collapsed": false,
     "input": [],
     "language": "python",
     "metadata": {},
     "outputs": [],
     "prompt_number": 65
    },
    {
     "cell_type": "code",
     "collapsed": false,
     "input": [],
     "language": "python",
     "metadata": {},
     "outputs": [],
     "prompt_number": 65
    },
    {
     "cell_type": "code",
     "collapsed": false,
     "input": [],
     "language": "python",
     "metadata": {},
     "outputs": [],
     "prompt_number": 65
    },
    {
     "cell_type": "code",
     "collapsed": false,
     "input": [],
     "language": "python",
     "metadata": {},
     "outputs": []
    },
    {
     "cell_type": "code",
     "collapsed": false,
     "input": [],
     "language": "python",
     "metadata": {},
     "outputs": []
    },
    {
     "cell_type": "code",
     "collapsed": false,
     "input": [],
     "language": "python",
     "metadata": {},
     "outputs": []
    },
    {
     "cell_type": "code",
     "collapsed": false,
     "input": [],
     "language": "python",
     "metadata": {},
     "outputs": []
    },
    {
     "cell_type": "code",
     "collapsed": false,
     "input": [],
     "language": "python",
     "metadata": {},
     "outputs": []
    },
    {
     "cell_type": "code",
     "collapsed": false,
     "input": [],
     "language": "python",
     "metadata": {},
     "outputs": []
    },
    {
     "cell_type": "code",
     "collapsed": false,
     "input": [],
     "language": "python",
     "metadata": {},
     "outputs": []
    },
    {
     "cell_type": "code",
     "collapsed": false,
     "input": [],
     "language": "python",
     "metadata": {},
     "outputs": []
    },
    {
     "cell_type": "code",
     "collapsed": false,
     "input": [],
     "language": "python",
     "metadata": {},
     "outputs": []
    },
    {
     "cell_type": "code",
     "collapsed": false,
     "input": [],
     "language": "python",
     "metadata": {},
     "outputs": []
    },
    {
     "cell_type": "code",
     "collapsed": false,
     "input": [],
     "language": "python",
     "metadata": {},
     "outputs": []
    },
    {
     "cell_type": "code",
     "collapsed": false,
     "input": [
      "r2.root\n",
      "list(r2.root.children)\n",
      "\n",
      "for word in r2:\n",
      "    print (word, str(list(word.children)))"
     ],
     "language": "python",
     "metadata": {},
     "outputs": []
    },
    {
     "cell_type": "code",
     "collapsed": false,
     "input": [
      "st = sentenceTree(r2)\n",
      "t, ts = st.render()\n",
      "t.render('%%inline', tree_style=ts)"
     ],
     "language": "python",
     "metadata": {},
     "outputs": []
    },
    {
     "cell_type": "code",
     "collapsed": false,
     "input": [
      "for sent in robinSents: \n",
      "    for word in sent: \n",
      "        if 'Robin' in word.string: \n",
      "            for child in word.children: \n",
      "                if child.pos_ == 'ADJ':\n",
      "                    print(child)"
     ],
     "language": "python",
     "metadata": {},
     "outputs": []
    },
    {
     "cell_type": "code",
     "collapsed": false,
     "input": [
      "def verbsForCharacters(text, character):\n",
      "    sents = [sent for sent in pride.sents if character in sent.string]\n",
      "    charWords = []\n",
      "    for sent in sents: \n",
      "        for word in sent: \n",
      "            if character in word.string: \n",
      "                charWords.append(word)\n",
      "    charAdjectives = []\n",
      "    for word in charWords: \n",
      "        # Start walking up the list of ancestors \n",
      "        # Until we get to the first verb. \n",
      "        for ancestor in word.ancestors: \n",
      "            if ancestor.pos_.startswith('V'): \n",
      "                charAdjectives.append(ancestor.lemma_.strip())\n",
      "    return Counter(charAdjectives).most_common(20)"
     ],
     "language": "python",
     "metadata": {},
     "outputs": []
    },
    {
     "cell_type": "code",
     "collapsed": false,
     "input": [
      "darcyVerbs = verbsForCharacters(pride, 'Darcy')\n",
      "janeVerbs = verbsForCharacters(pride, 'Jane')"
     ],
     "language": "python",
     "metadata": {},
     "outputs": []
    },
    {
     "cell_type": "code",
     "collapsed": false,
     "input": [
      "def verbsToMatrix(verbCounts): \n",
      "    \"\"\" \n",
      "    Takes verb counts given by verbsForCharacters \n",
      "    and makes Pandas Series out of them, suitabe for combination in \n",
      "    a DataFrame. \n",
      "    \"\"\"\n",
      "    return pd.Series({t[0]: t[1] for t in verbCounts})\n",
      "\n",
      "verbsDF = pd.DataFrame({'Elizabeth': verbsToMatrix(elizabethVerbs), \n",
      "                        'Darcy': verbsToMatrix(darcyVerbs), \n",
      "                        'Jane': verbsToMatrix(janeVerbs)}).fillna(0)\n",
      "verbsDF.plot(kind='bar', figsize=(14,4))"
     ],
     "language": "python",
     "metadata": {},
     "outputs": []
    },
    {
     "cell_type": "code",
     "collapsed": false,
     "input": [
      "list(set([word.string.strip().lower() for word in grail if word.prob < -19]))[:20]\n"
     ],
     "language": "python",
     "metadata": {},
     "outputs": []
    },
    {
     "cell_type": "code",
     "collapsed": false,
     "input": [],
     "language": "python",
     "metadata": {},
     "outputs": []
    },
    {
     "cell_type": "code",
     "collapsed": false,
     "input": [],
     "language": "python",
     "metadata": {},
     "outputs": []
    },
    {
     "cell_type": "code",
     "collapsed": false,
     "input": [],
     "language": "python",
     "metadata": {},
     "outputs": []
    },
    {
     "cell_type": "code",
     "collapsed": false,
     "input": [],
     "language": "python",
     "metadata": {},
     "outputs": []
    },
    {
     "cell_type": "code",
     "collapsed": false,
     "input": [],
     "language": "python",
     "metadata": {},
     "outputs": []
    },
    {
     "cell_type": "code",
     "collapsed": false,
     "input": [],
     "language": "python",
     "metadata": {},
     "outputs": []
    },
    {
     "cell_type": "code",
     "collapsed": false,
     "input": [],
     "language": "python",
     "metadata": {},
     "outputs": []
    },
    {
     "cell_type": "code",
     "collapsed": false,
     "input": [],
     "language": "python",
     "metadata": {},
     "outputs": []
    },
    {
     "cell_type": "code",
     "collapsed": false,
     "input": [],
     "language": "python",
     "metadata": {},
     "outputs": []
    },
    {
     "cell_type": "code",
     "collapsed": false,
     "input": [],
     "language": "python",
     "metadata": {},
     "outputs": []
    },
    {
     "cell_type": "code",
     "collapsed": false,
     "input": [],
     "language": "python",
     "metadata": {},
     "outputs": []
    },
    {
     "cell_type": "code",
     "collapsed": false,
     "input": [],
     "language": "python",
     "metadata": {},
     "outputs": []
    },
    {
     "cell_type": "code",
     "collapsed": false,
     "input": [],
     "language": "python",
     "metadata": {},
     "outputs": []
    },
    {
     "cell_type": "code",
     "collapsed": false,
     "input": [],
     "language": "python",
     "metadata": {},
     "outputs": []
    },
    {
     "cell_type": "code",
     "collapsed": false,
     "input": [],
     "language": "python",
     "metadata": {},
     "outputs": []
    },
    {
     "cell_type": "code",
     "collapsed": false,
     "input": [],
     "language": "python",
     "metadata": {},
     "outputs": []
    },
    {
     "cell_type": "code",
     "collapsed": false,
     "input": [],
     "language": "python",
     "metadata": {},
     "outputs": []
    },
    {
     "cell_type": "code",
     "collapsed": false,
     "input": [],
     "language": "python",
     "metadata": {},
     "outputs": []
    },
    {
     "cell_type": "code",
     "collapsed": false,
     "input": [],
     "language": "python",
     "metadata": {},
     "outputs": []
    },
    {
     "cell_type": "code",
     "collapsed": false,
     "input": [],
     "language": "python",
     "metadata": {},
     "outputs": []
    },
    {
     "cell_type": "code",
     "collapsed": false,
     "input": [
      ")"
     ],
     "language": "python",
     "metadata": {},
     "outputs": []
    },
    {
     "cell_type": "code",
     "collapsed": false,
     "input": [],
     "language": "python",
     "metadata": {},
     "outputs": []
    },
    {
     "cell_type": "code",
     "collapsed": false,
     "input": [],
     "language": "python",
     "metadata": {},
     "outputs": []
    },
    {
     "cell_type": "code",
     "collapsed": false,
     "input": [],
     "language": "python",
     "metadata": {},
     "outputs": []
    },
    {
     "cell_type": "code",
     "collapsed": false,
     "input": [],
     "language": "python",
     "metadata": {},
     "outputs": []
    },
    {
     "cell_type": "code",
     "collapsed": false,
     "input": [],
     "language": "python",
     "metadata": {},
     "outputs": []
    },
    {
     "cell_type": "code",
     "collapsed": false,
     "input": [],
     "language": "python",
     "metadata": {},
     "outputs": []
    },
    {
     "cell_type": "code",
     "collapsed": false,
     "input": [],
     "language": "python",
     "metadata": {},
     "outputs": [],
     "prompt_number": 3
    },
    {
     "cell_type": "code",
     "collapsed": false,
     "input": [],
     "language": "python",
     "metadata": {},
     "outputs": []
    }
   ],
   "metadata": {}
  }
 ]
}