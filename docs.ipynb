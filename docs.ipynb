{
 "metadata": {
  "name": "",
  "signature": "sha256:aa20564960762bbe5cc758a06a524b37f6d046ad6e22e58d210559381b669b11"
 },
 "nbformat": 3,
 "nbformat_minor": 0,
 "worksheets": [
  {
   "cells": [
    {
     "cell_type": "code",
     "collapsed": false,
     "input": [
      "import spacy                         # See \"Installing spaCy\"\n",
      "nlp = spacy.load('en')               # You are here.\n",
      "doc = nlp(u'Hello, spacy!')          # See \"Using the pipeline\"\n",
      "for w in doc:\n",
      "    print w.text, w.pos_"
     ],
     "language": "python",
     "metadata": {},
     "outputs": [
      {
       "output_type": "stream",
       "stream": "stdout",
       "text": [
        "Hello INTJ\n",
        ", PUNCT\n",
        "spacy NOUN\n",
        "! PUNCT\n"
       ]
      }
     ],
     "prompt_number": 1
    },
    {
     "cell_type": "code",
     "collapsed": false,
     "input": [
      "doc = nlp(u'Hello, world! A three sentence document.\\nWith new lines...')\n",
      "print doc"
     ],
     "language": "python",
     "metadata": {},
     "outputs": [
      {
       "output_type": "stream",
       "stream": "stdout",
       "text": [
        "Hello, world! A three sentence document.\n",
        "With new lines...\n"
       ]
      }
     ],
     "prompt_number": 2
    },
    {
     "cell_type": "code",
     "collapsed": false,
     "input": [
      "text = u\"this is another ex New Delhi\"\n",
      "doc = nlp.make_doc(text)\n",
      "for proc in nlp.pipeline:\n",
      "    print proc\n",
      "    \n",
      "    proc(doc)"
     ],
     "language": "python",
     "metadata": {},
     "outputs": [
      {
       "output_type": "stream",
       "stream": "stdout",
       "text": [
        "<spacy.tagger.Tagger object at 0x7fe5316f6820>\n",
        "<spacy.pipeline.DependencyParser object at 0x7fe536c66e68>\n",
        "<spacy.matcher.Matcher object at 0x7fe5316cac08>\n",
        "<spacy.pipeline.EntityRecognizer object at 0x7fe531743f70>\n"
       ]
      }
     ],
     "prompt_number": 13
    },
    {
     "cell_type": "code",
     "collapsed": false,
     "input": [
      "doc = nlp.tokenizer(text)\n",
      "print doc\n",
      "print nlp.tagger(doc)\n",
      "print nlp.parser(doc)\n",
      "print nlp.entity(doc)"
     ],
     "language": "python",
     "metadata": {},
     "outputs": [
      {
       "output_type": "stream",
       "stream": "stdout",
       "text": [
        "this is another ex New Delhi\n",
        "None\n",
        "None\n",
        "None\n"
       ]
      }
     ],
     "prompt_number": 14
    },
    {
     "cell_type": "code",
     "collapsed": false,
     "input": [
      "texts = [u'a',u'b',u'c']\n",
      "\n",
      "for doc in nlp.pipe(texts, batch_size=10000, n_threads=3):\n",
      "   print doc"
     ],
     "language": "python",
     "metadata": {},
     "outputs": [
      {
       "output_type": "stream",
       "stream": "stdout",
       "text": [
        "a\n",
        "b\n",
        "c\n"
       ]
      }
     ],
     "prompt_number": 17
    },
    {
     "cell_type": "code",
     "collapsed": false,
     "input": [
      "import spacy\n",
      "nlp = spacy.load('en')\n",
      "doc = nlp(u'They told us to duck.')\n",
      "for word in doc:\n",
      "    print(word.text, word.lemma, word.lemma_, word.tag, word.tag_, word.pos, word.pos_)"
     ],
     "language": "python",
     "metadata": {},
     "outputs": [
      {
       "output_type": "stream",
       "stream": "stdout",
       "text": [
        "(u'They', 757862, u'-PRON-', 479, u'PRP', 93, u'PRON')\n",
        "(u'told', 971, u'tell', 489, u'VBD', 98, u'VERB')\n",
        "(u'us', 757862, u'-PRON-', 479, u'PRP', 93, u'PRON')\n",
        "(u'to', 504, u'to', 486, u'TO', 92, u'PART')\n",
        "(u'duck', 7797, u'duck', 474, u'NN', 90, u'NOUN')\n",
        "(u'.', 453, u'.', 453, u'.', 95, u'PUNCT')\n"
       ]
      }
     ],
     "prompt_number": 18
    },
    {
     "cell_type": "code",
     "collapsed": false,
     "input": [
      "doc = nlp(u'I like green eggs and ham.')\n",
      "for np in doc.noun_chunks:\n",
      "    print(np.text, np.root.text, np.root.dep_, np.root.head.text)"
     ],
     "language": "python",
     "metadata": {},
     "outputs": [
      {
       "output_type": "stream",
       "stream": "stdout",
       "text": [
        "(u'I', u'I', u'nsubj', u'like')\n",
        "(u'green eggs', u'eggs', u'dobj', u'like')\n",
        "(u'ham', u'ham', u'conj', u'eggs')\n"
       ]
      }
     ],
     "prompt_number": 19
    },
    {
     "cell_type": "code",
     "collapsed": false,
     "input": [
      "apples = nlp(u'bright red apples on the tree')[2]\n",
      "print([w.text for w in apples.lefts])\n",
      "# ['bright', 'red']\n",
      "print([w.text for w in apples.rights])"
     ],
     "language": "python",
     "metadata": {},
     "outputs": [
      {
       "output_type": "stream",
       "stream": "stdout",
       "text": [
        "[u'bright', u'red']\n",
        "[u'on']\n"
       ]
      }
     ],
     "prompt_number": 20
    },
    {
     "cell_type": "code",
     "collapsed": false,
     "input": [
      "doc = nlp(u'London is a big city in the United Kingdom.')\n",
      "print(doc[0].text, doc[0].ent_iob, doc[0].ent_type_)\n",
      "# (u'London', 2, u'GPE')\n",
      "print(doc[1].text, doc[1].ent_iob, doc[1].ent_type_)"
     ],
     "language": "python",
     "metadata": {},
     "outputs": [
      {
       "output_type": "stream",
       "stream": "stdout",
       "text": [
        "(u'London', 3, u'GPE')\n",
        "(u'is', 2, u'')\n"
       ]
      }
     ],
     "prompt_number": 21
    },
    {
     "cell_type": "code",
     "collapsed": false,
     "input": [
      "import numpy\n",
      "\n",
      "apples, and_, oranges = nlp(u'india and delhi')\n",
      "print(apples.vector.shape)\n",
      "# (1,)\n",
      "apples.similarity(oranges)"
     ],
     "language": "python",
     "metadata": {},
     "outputs": [
      {
       "output_type": "stream",
       "stream": "stdout",
       "text": [
        "(300,)\n"
       ]
      },
      {
       "metadata": {},
       "output_type": "pyout",
       "prompt_number": 24,
       "text": [
        "0.0"
       ]
      }
     ],
     "prompt_number": 24
    }
   ],
   "metadata": {}
  }
 ]
}