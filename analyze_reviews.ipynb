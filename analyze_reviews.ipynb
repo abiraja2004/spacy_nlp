{
 "metadata": {
  "name": "",
  "signature": "sha256:7da5c3e62c403bd1293f6fc617a5fca9931fd438c6426be7e4c9281d02fbb3b2"
 },
 "nbformat": 3,
 "nbformat_minor": 0,
 "worksheets": [
  {
   "cells": [
    {
     "cell_type": "markdown",
     "metadata": {},
     "source": [
      "**Analyzing  Hotel Reviews using SpaCy**\n",
      "\n"
     ]
    },
    {
     "cell_type": "code",
     "collapsed": false,
     "input": [
      "import spacy\n",
      "import os\n",
      "from collections import Counter\n",
      "from sklearn.decomposition import TruncatedSVD\n",
      "import matplotlib.pyplot as plt\n",
      "%matplotlib inline"
     ],
     "language": "python",
     "metadata": {},
     "outputs": [],
     "prompt_number": 132
    },
    {
     "cell_type": "code",
     "collapsed": false,
     "input": [
      "## Configurations\n",
      "_dataset_path = 'data/hotel_reviews/'\n",
      "\n",
      "_noisy_pos_tags = ['PUNCT']\n",
      "_noisy_substrings = \"'\"\n",
      "_min_token_length = 2\n",
      "\n",
      "nlp = spacy.load('en')"
     ],
     "language": "python",
     "metadata": {},
     "outputs": [],
     "prompt_number": 33
    },
    {
     "cell_type": "code",
     "collapsed": false,
     "input": [
      "## Read Hotel's Review Files\n",
      "hotels = os.listdir(_dataset_path)\n",
      "hotel_A = unicode(open(_dataset_path+hotels[0]).read().decode('utf8'))\n",
      "hotel_B = unicode(open(_dataset_path+hotels[1]).read().decode('utf8'))"
     ],
     "language": "python",
     "metadata": {},
     "outputs": [],
     "prompt_number": 16
    },
    {
     "cell_type": "code",
     "collapsed": false,
     "input": [
      "## Init Spacy Models \n",
      "review_a = nlp(hotel_A)\n",
      "review_b = nlp(hotel_B)"
     ],
     "language": "python",
     "metadata": {},
     "outputs": [],
     "prompt_number": 46
    },
    {
     "cell_type": "code",
     "collapsed": false,
     "input": [
      "# Write function to check noise using spacy properties\n",
      "def isNoise(token):\n",
      "    is_noise = False\n",
      "    if token.pos_ in _noisy_pos_tags:\n",
      "        is_noise = True \n",
      "    elif token.is_stop == True:\n",
      "        is_noise = True \n",
      "    elif any(substr in token.string for substr in _noisy_substrings):\n",
      "        is_noise = True \n",
      "    elif len(token.string) <= _min_token_length:\n",
      "        is_noise = True \n",
      "    return is_noise\n",
      "\n",
      "def cleanup(token, lower = True):\n",
      "    if lower:\n",
      "        token = token.lower()\n",
      "    return token.strip()"
     ],
     "language": "python",
     "metadata": {},
     "outputs": [],
     "prompt_number": 90
    },
    {
     "cell_type": "markdown",
     "metadata": {},
     "source": [
      "**1. Dataset Exploration**\n",
      "\n",
      "Understanding the data, top keywords, phrases and information about sentences etc."
     ]
    },
    {
     "cell_type": "code",
     "collapsed": false,
     "input": [
      "# Top unigrams for Hotel A\n",
      "Counter([cleanup(word.string) for word in review_a if not isNoise(word)]).most_common(5)"
     ],
     "language": "python",
     "metadata": {},
     "outputs": [
      {
       "metadata": {},
       "output_type": "pyout",
       "prompt_number": 74,
       "text": [
        "[(u'hotel', 93), (u'room', 73), (u'river', 35), (u'city', 28), (u'view', 26)]"
       ]
      }
     ],
     "prompt_number": 74
    },
    {
     "cell_type": "code",
     "collapsed": false,
     "input": [
      "# Top unigrams for Hotel B\n",
      "Counter([cleanup(word.string) for word in review_b if not isNoise(word)]).most_common(5)"
     ],
     "language": "python",
     "metadata": {},
     "outputs": [
      {
       "metadata": {},
       "output_type": "pyout",
       "prompt_number": 75,
       "text": [
        "[(u'hotel', 683),\n",
        " (u'room', 652),\n",
        " (u'great', 300),\n",
        " (u'sheraton', 285),\n",
        " (u'location', 271)]"
       ]
      }
     ],
     "prompt_number": 75
    },
    {
     "cell_type": "markdown",
     "metadata": {},
     "source": [
      "**Using Probabilities**"
     ]
    },
    {
     "cell_type": "code",
     "collapsed": false,
     "input": [
      "## Using Spacy probabilitis to check top and bottom words\n",
      "list(set([cleanup(word.string) for word in review_a if word.prob < -10]))[:5]"
     ],
     "language": "python",
     "metadata": {},
     "outputs": [
      {
       "metadata": {},
       "output_type": "pyout",
       "prompt_number": 76,
       "text": [
        "[u'', u'gratuity', u'managed', u'chain', u'elemeris']"
       ]
      }
     ],
     "prompt_number": 76
    },
    {
     "cell_type": "code",
     "collapsed": false,
     "input": [
      "list(set([cleanup(word.string) for word in review_b if word.prob < -10]))[:5]"
     ],
     "language": "python",
     "metadata": {},
     "outputs": [
      {
       "metadata": {},
       "output_type": "pyout",
       "prompt_number": 77,
       "text": [
        "[u'', u'secondly', u'they\\u9225\\u6a99e', u'clamoring', u'raining']"
       ]
      }
     ],
     "prompt_number": 77
    },
    {
     "cell_type": "code",
     "collapsed": false,
     "input": [
      "probs_a = [word.prob for word in review_a]\n",
      "probs_b = [word.prob for word in review_b]"
     ],
     "language": "python",
     "metadata": {},
     "outputs": [],
     "prompt_number": 59
    },
    {
     "cell_type": "code",
     "collapsed": false,
     "input": [
      "list(set([cleanup(word.string) for word in review_a if word.prob > -8 and not isNoise(word)]))[:5]"
     ],
     "language": "python",
     "metadata": {},
     "outputs": [
      {
       "metadata": {},
       "output_type": "pyout",
       "prompt_number": 78,
       "text": [
        "[u'right', u'old', u'point', u'feel', u'money']"
       ]
      }
     ],
     "prompt_number": 78
    },
    {
     "cell_type": "code",
     "collapsed": false,
     "input": [
      "list(set([cleanup(word.string) for word in review_b if word.prob > -12 and not isNoise(word)]))[:5]"
     ],
     "language": "python",
     "metadata": {},
     "outputs": [
      {
       "metadata": {},
       "output_type": "pyout",
       "prompt_number": 79,
       "text": [
        "[u'', u'limited', u'secondly', u'child', u'facilities']"
       ]
      }
     ],
     "prompt_number": 79
    },
    {
     "cell_type": "markdown",
     "metadata": {},
     "source": [
      "**Entity Extraction**"
     ]
    },
    {
     "cell_type": "code",
     "collapsed": false,
     "input": [
      "labels_a = set([w.label_ for w in review_a.ents])\n",
      "for label in labels_a:\n",
      "    entities = list(set([cleanup(ent.string, lower=False) for ent in review_a.ents if label==ent.label_]))\n",
      "    print label, entities\n",
      "    print"
     ],
     "language": "python",
     "metadata": {},
     "outputs": [
      {
       "output_type": "stream",
       "stream": "stdout",
       "text": [
        "ORDINAL [u'19th', u'10th', u'second', u'20th', u'first']\n",
        "\n",
        "LOC [u'Lounge', u'the nearby River', u'the River', u'20min']\n",
        "\n",
        "PRODUCT [u'SAS', u'heat/AC']\n",
        "\n",
        "NORP [u'Practical - Functional', u'German', u'Japanese', u'Asian', u'Hauptbahnhof', u'English', u'Intercontiental', u'European', u'Italian']\n",
        "\n",
        "LANGUAGE [u'English']\n",
        "\n",
        "GPE [u'Canada', u'the Intercon', u'Sabariah', u'Sachsenhausen', u'Offenbach', u'Great Staff', u'US', u'Elemeris', u'the City Wing', u'Gisela', u'Germany', u'Hotwire', u'UK', u'Aust\\u732bre', u'Frankfurt', u'Rhine']\n",
        "\n",
        "PERCENT [u'3:15pm because', u'about 10:30pm,', u'less than']\n",
        "\n",
        "MONEY [u'nearly $20']\n",
        "\n",
        "PERSON [u'Great Stay', u'Bathroom', u'Roemer', u'Molten Brown', u'Sabariah', u'Great Location - Very Happy', u'Stayed', u'Julia', u'Great Location', u'Club Suite', u'Main', u'Goethestrasse', u'Helpful Staff', u'Booked', u'Zeil', u'Holiday Inn-ish', u'Beds', u'Leon', u'Concierge', u'Hotwire', u'Apfelwein', u'Breakfast', u'Staff']\n",
        "\n",
        "FAC [u'the Intercontinental Frankfurt', u'11.30am and', u'the River Main quay', u'Hotwire']\n",
        "\n",
        "CARDINAL [u'06.30', u'one', u'60', u'only a 10', u'about 15', u'20', u'two', u'40', u'3', u'2', u'5', u'4', u'7', u'6', u'9', u'27eur', u'1-hour', u'hundreds', u'only a 24', u'about 20', u'10', u'15', u'four', u'18']\n",
        "\n",
        "TIME [u'One night', u'three night', u'later in the evening', u'evening', u'2 a.m. the', u'another 45 minutes', u'5pm.', u'another 30 minutes', u'3pm', u'morning', u'hours', u'10 minute', u'30 minutes', u'afternoon', u'night', u'last night', u'15 minute', u'every night', u'one night']\n",
        "\n",
        "DATE [u'the 21st floor', u'Sunday', u'5star', u'Monday', u'November 2005', u'1960', u'early (10', u'one day', u'the day', u'1401', u'the 12th floor', u\"early 1990's\", u\"the late 1960's / early 1970's\", u'warm days', u'a weekend', u'each day', u'25 year old', u'between the two hotel buidlings', u'weekend', u'the days', u'the last five years or so', u'10 day', u'the 10th floor of the river wing', u'the two days', u'Saturday']\n",
        "\n",
        "ORG [u'City', u'the City Tower', u'AAA', u'Gran Hotel', u'CRT', u'The Intercontinental Frankfurt', u'InterCon', u'the Club Level', u'HW', u'Intercontinental', u'Great Club Lounge', u'River Wing', u'Great Hotel', u'Friendly', u'City Centre', u'Wonderful Club Level', u'Club', u'the Intercontinental Frankfurt', u'Intercon', u'Hotel', u'a Club Studio', u'LCD TV', u'Best Regards', u'Noisy', u'Great', u'the Club Suites', u'This', u'iBahn', u'Grey', u'e.g. European Central Bank', u'Club Studio', u'TLC', u'The Club Lounge', u'Signature', u'CNN', u'Hotel at Intercontinental Frankfurt', u'IC', u'The Italian Restaurant', u'The IC Frankfurt', u'Medium Hotel Good Morning', u'the Intercontinental Club Lounge', u'IC Frankfurt', u'the Frankfurt Hauptbahnhof', u'Studiosare', u'House', u'the Inter Conti', u'InterContinental', u'the Mainhatten Bar', u'Business Hotel', u'First Class Hotel Stayed', u'Radisson', u'the Tour Bus', u'Meridien Parkhotel', u'I\\u9e93d']\n",
        "\n",
        "LAW [u'the Steigenberger']\n",
        "\n",
        "QUANTITY [u'about 200 meters', u'200 meters']\n",
        "\n"
       ]
      }
     ],
     "prompt_number": 92
    },
    {
     "cell_type": "code",
     "collapsed": false,
     "input": [
      "## Entities of hotel B reviews\n",
      "labels_b = set([w.label_ for w in review_b.ents])\n",
      "for label in labels_b:\n",
      "    entities = list(set([cleanup(ent.string, lower=False) for ent in review_a.ents if label==ent.label_]))\n",
      "    print label, entities\n",
      "    print"
     ],
     "language": "python",
     "metadata": {},
     "outputs": [
      {
       "output_type": "stream",
       "stream": "stdout",
       "text": [
        "ORDINAL [u'19th', u'10th', u'second', u'20th', u'first']\n",
        "\n",
        "LOC [u'Lounge', u'the nearby River', u'the River', u'20min']\n",
        "\n",
        "PRODUCT [u'SAS', u'heat/AC']\n",
        "\n",
        "LAW [u'the Steigenberger']\n",
        "\n",
        "WORK_OF_ART []\n",
        "\n",
        "LANGUAGE [u'English']\n",
        "\n",
        "MONEY [u'nearly $20']\n",
        "\n",
        "PERCENT [u'3:15pm because', u'about 10:30pm,', u'less than']\n",
        "\n",
        "PERSON [u'Great Stay', u'Bathroom', u'Roemer', u'Molten Brown', u'Sabariah', u'Great Location - Very Happy', u'Stayed', u'Julia', u'Great Location', u'Club Suite', u'Main', u'Goethestrasse', u'Helpful Staff', u'Booked', u'Zeil', u'Holiday Inn-ish', u'Beds', u'Leon', u'Concierge', u'Hotwire', u'Apfelwein', u'Breakfast', u'Staff']\n",
        "\n",
        "NORP [u'Practical - Functional', u'German', u'Japanese', u'Asian', u'Hauptbahnhof', u'English', u'Intercontiental', u'European', u'Italian']\n",
        "\n",
        "CARDINAL [u'06.30', u'one', u'60', u'only a 10', u'about 15', u'20', u'two', u'40', u'3', u'2', u'5', u'4', u'7', u'6', u'9', u'27eur', u'1-hour', u'hundreds', u'only a 24', u'about 20', u'10', u'15', u'four', u'18']\n",
        "\n",
        "GPE [u'Canada', u'the Intercon', u'Sabariah', u'Sachsenhausen', u'Offenbach', u'Great Staff', u'US', u'Elemeris', u'the City Wing', u'Gisela', u'Germany', u'Hotwire', u'UK', u'Aust\\u732bre', u'Frankfurt', u'Rhine']\n",
        "\n",
        "TIME [u'One night', u'three night', u'later in the evening', u'evening', u'2 a.m. the', u'another 45 minutes', u'5pm.', u'another 30 minutes', u'3pm', u'morning', u'hours', u'10 minute', u'30 minutes', u'afternoon', u'night', u'last night', u'15 minute', u'every night', u'one night']\n",
        "\n",
        "DATE [u'the 21st floor', u'Sunday', u'5star', u'Monday', u'November 2005', u'1960', u'early (10', u'one day', u'the day', u'1401', u'the 12th floor', u\"early 1990's\", u\"the late 1960's / early 1970's\", u'warm days', u'a weekend', u'each day', u'25 year old', u'between the two hotel buidlings', u'weekend', u'the days', u'the last five years or so', u'10 day', u'the 10th floor of the river wing', u'the two days', u'Saturday']\n",
        "\n",
        "FAC [u'the Intercontinental Frankfurt', u'11.30am and', u'the River Main quay', u'Hotwire']\n",
        "\n",
        "QUANTITY [u'about 200 meters', u'200 meters']\n",
        "\n",
        "EVENT []\n",
        "\n",
        "ORG [u'City', u'the City Tower', u'AAA', u'Gran Hotel', u'CRT', u'The Intercontinental Frankfurt', u'InterCon', u'the Club Level', u'HW', u'Intercontinental', u'Great Club Lounge', u'River Wing', u'Great Hotel', u'Friendly', u'City Centre', u'Wonderful Club Level', u'Club', u'the Intercontinental Frankfurt', u'Intercon', u'Hotel', u'a Club Studio', u'LCD TV', u'Best Regards', u'Noisy', u'Great', u'the Club Suites', u'This', u'iBahn', u'Grey', u'e.g. European Central Bank', u'Club Studio', u'TLC', u'The Club Lounge', u'Signature', u'CNN', u'Hotel at Intercontinental Frankfurt', u'IC', u'The Italian Restaurant', u'The IC Frankfurt', u'Medium Hotel Good Morning', u'the Intercontinental Club Lounge', u'IC Frankfurt', u'the Frankfurt Hauptbahnhof', u'Studiosare', u'House', u'the Inter Conti', u'InterContinental', u'the Mainhatten Bar', u'Business Hotel', u'First Class Hotel Stayed', u'Radisson', u'the Tour Bus', u'Meridien Parkhotel', u'I\\u9e93d']\n",
        "\n"
       ]
      }
     ],
     "prompt_number": 93
    },
    {
     "cell_type": "markdown",
     "metadata": {},
     "source": [
      "**POS Tags**"
     ]
    },
    {
     "cell_type": "code",
     "collapsed": false,
     "input": [
      "## Extract relevant pos tag words for each hotel\n",
      "a_nouns = [w for w in review_a if w.pos_ == 'PROPN' and not isNoise(w)]\n",
      "Counter([w.string.strip() for w in a_nouns]).most_common(5)"
     ],
     "language": "python",
     "metadata": {},
     "outputs": [
      {
       "metadata": {},
       "output_type": "pyout",
       "prompt_number": 98,
       "text": [
        "[(u'Frankfurt', 24),\n",
        " (u'Club', 12),\n",
        " (u'City', 10),\n",
        " (u'IC', 9),\n",
        " (u'Intercontinental', 8)]"
       ]
      }
     ],
     "prompt_number": 98
    },
    {
     "cell_type": "code",
     "collapsed": false,
     "input": [
      "b_nouns = [w for w in review_b if w.pos_ == 'PROPN' and not isNoise(w)]\n",
      "Counter([w.string.strip() for w in b_nouns]).most_common(5)"
     ],
     "language": "python",
     "metadata": {},
     "outputs": [
      {
       "metadata": {},
       "output_type": "pyout",
       "prompt_number": 99,
       "text": [
        "[(u'Sheraton', 273),\n",
        " (u'Boston', 257),\n",
        " (u'Prudential', 122),\n",
        " (u'Center', 84),\n",
        " (u'Hotel', 54)]"
       ]
      }
     ],
     "prompt_number": 99
    },
    {
     "cell_type": "code",
     "collapsed": false,
     "input": [
      "## Extract relevant pos tag words for each hotel\n",
      "a_nouns = [w for w in review_a if w.pos_ == 'PROPN' and not isNoise(w)]\n",
      "Counter([w.string.strip() for w in a_nouns]).most_common(5)"
     ],
     "language": "python",
     "metadata": {},
     "outputs": [
      {
       "metadata": {},
       "output_type": "pyout",
       "prompt_number": 103,
       "text": [
        "[(u'Frankfurt', 24),\n",
        " (u'Club', 12),\n",
        " (u'City', 10),\n",
        " (u'IC', 9),\n",
        " (u'Intercontinental', 8)]"
       ]
      }
     ],
     "prompt_number": 103
    },
    {
     "cell_type": "markdown",
     "metadata": {},
     "source": [
      "**Dependency Parsing**"
     ]
    },
    {
     "cell_type": "code",
     "collapsed": false,
     "input": [
      "## Extract all review sentences that contains the term - hotel\n",
      "a_hotel = [sent for sent in review_a.sents if 'hotel' in sent.string.lower()]\n",
      "b_hotel = [sent for sent in review_b.sents if 'hotel' in sent.string.lower()]"
     ],
     "language": "python",
     "metadata": {},
     "outputs": [],
     "prompt_number": 102
    },
    {
     "cell_type": "code",
     "collapsed": false,
     "input": [
      "## Dependency Tree\n",
      "one = a_hotel[2]\n",
      "for word in one: \n",
      "    print(word, ': ', str(list(word.children)))"
     ],
     "language": "python",
     "metadata": {},
     "outputs": [
      {
       "output_type": "stream",
       "stream": "stdout",
       "text": [
        "(As, ': ', '[]')\n",
        "(I, ': ', '[]')\n",
        "(work, ': ', '[As, I, in]')\n",
        "(in, ': ', '[industry]')\n",
        "(the, ': ', '[]')\n",
        "(hotel, ': ', '[]')\n",
        "(industry, ': ', '[the, hotel, myself]')\n",
        "(myself, ': ', '[]')\n",
        "(I, ': ', '[work]')\n",
        "(was, ': ', '[]')\n",
        "(disappointed, ': ', '[I, was, with, .]')\n",
        "(with, ': ', '[type]')\n",
        "(the, ': ', '[]')\n",
        "(type, ': ', '[the, of]')\n",
        "(of, ': ', '[card]')\n",
        "(comment, ': ', '[]')\n",
        "(card, ': ', '[comment, provide]')\n",
        "(they, ': ', '[]')\n",
        "(provide, ': ', '[they]')\n",
        "(., ': ', '[]')\n"
       ]
      }
     ],
     "prompt_number": 104
    },
    {
     "cell_type": "code",
     "collapsed": false,
     "input": [
      "## Check all adjectives used with a word\n",
      "def adjectivesDescribingCharacters(text, character):\n",
      "    sents = [sent for sent in text.sents if character in sent.string]\n",
      "    adjectives = []\n",
      "    for sent in sents: \n",
      "        for word in sent: \n",
      "            if character in word.string:\n",
      "                for child in word.children: \n",
      "                    if child.pos_ == 'ADJ': \n",
      "                        adjectives.append(child.string.strip())\n",
      "    return Counter(adjectives).most_common(10)"
     ],
     "language": "python",
     "metadata": {},
     "outputs": [],
     "prompt_number": 110
    },
    {
     "cell_type": "code",
     "collapsed": false,
     "input": [
      "adjectivesDescribingCharacters(review_a, 'hotel')"
     ],
     "language": "python",
     "metadata": {},
     "outputs": [
      {
       "metadata": {},
       "output_type": "pyout",
       "prompt_number": 111,
       "text": [
        "[(u'good', 2),\n",
        " (u'regular', 2),\n",
        " (u'closer', 1),\n",
        " (u'great', 1),\n",
        " (u'excellent', 1),\n",
        " (u'big', 1),\n",
        " (u'solid', 1),\n",
        " (u'convenient', 1),\n",
        " (u'Excellent', 1),\n",
        " (u'upmarket', 1)]"
       ]
      }
     ],
     "prompt_number": 111
    },
    {
     "cell_type": "code",
     "collapsed": false,
     "input": [
      "adjectivesDescribingCharacters(review_b, 'hotel')"
     ],
     "language": "python",
     "metadata": {},
     "outputs": [
      {
       "metadata": {},
       "output_type": "pyout",
       "prompt_number": 112,
       "text": [
        "[(u'other', 20),\n",
        " (u'great', 10),\n",
        " (u'good', 7),\n",
        " (u'better', 6),\n",
        " (u'nice', 6),\n",
        " (u'different', 5),\n",
        " (u'many', 5),\n",
        " (u'best', 4),\n",
        " (u'my', 4),\n",
        " (u'wonderful', 3)]"
       ]
      }
     ],
     "prompt_number": 112
    },
    {
     "cell_type": "code",
     "collapsed": false,
     "input": [
      "adjectivesDescribingCharacters(review_a, 'restaurant')"
     ],
     "language": "python",
     "metadata": {},
     "outputs": [
      {
       "metadata": {},
       "output_type": "pyout",
       "prompt_number": 113,
       "text": [
        "[(u'Italian', 3),\n",
        " (u'all', 1),\n",
        " (u'own', 1),\n",
        " (u'cozy', 1),\n",
        " (u'their', 1),\n",
        " (u'good', 1)]"
       ]
      }
     ],
     "prompt_number": 113
    },
    {
     "cell_type": "code",
     "collapsed": false,
     "input": [
      "adjectivesDescribingCharacters(review_b, 'hotel')"
     ],
     "language": "python",
     "metadata": {},
     "outputs": [
      {
       "metadata": {},
       "output_type": "pyout",
       "prompt_number": 114,
       "text": [
        "[(u'other', 20),\n",
        " (u'great', 10),\n",
        " (u'good', 7),\n",
        " (u'better', 6),\n",
        " (u'nice', 6),\n",
        " (u'different', 5),\n",
        " (u'many', 5),\n",
        " (u'best', 4),\n",
        " (u'my', 4),\n",
        " (u'wonderful', 3)]"
       ]
      }
     ],
     "prompt_number": 114
    },
    {
     "cell_type": "code",
     "collapsed": false,
     "input": [
      "def parent_pos_tag_used(text, token, pos):\n",
      "    sents = [sent for sent in text.sents if token in sent.string]\n",
      "    \n",
      "    # Storing tokens (by reference)\n",
      "    tokens = []\n",
      "    for sent in sents: \n",
      "        for word in sent: \n",
      "            if token in word.string: \n",
      "                tokens.append(word)\n",
      "    \n",
      "    # finding out parent_pos_tag\n",
      "    parent_pos = []\n",
      "    for word in tokens: \n",
      "        for ancestor in word.ancestors: \n",
      "            if ancestor.pos_.startswith(pos): \n",
      "                parent_pos.append(ancestor.lemma_.strip())\n",
      "    return Counter(parent_pos).most_common(20)"
     ],
     "language": "python",
     "metadata": {},
     "outputs": [],
     "prompt_number": 120
    },
    {
     "cell_type": "code",
     "collapsed": false,
     "input": [
      "parent_pos_tag_used(review_b, 'hotel', 'V')"
     ],
     "language": "python",
     "metadata": {},
     "outputs": [
      {
       "metadata": {},
       "output_type": "pyout",
       "prompt_number": 123,
       "text": [
        "[(u'be', 397),\n",
        " (u'stay', 73),\n",
        " (u'have', 50),\n",
        " (u'recommend', 30),\n",
        " (u'get', 26),\n",
        " (u'go', 17),\n",
        " (u'connect', 16),\n",
        " (u'do', 15),\n",
        " (u'find', 13),\n",
        " (u'locate', 13),\n",
        " (u'think', 13),\n",
        " (u'book', 12),\n",
        " (u'take', 12),\n",
        " (u'feel', 10),\n",
        " (u'attach', 10),\n",
        " (u'come', 9),\n",
        " (u'walk', 9),\n",
        " (u'use', 9),\n",
        " (u'make', 9),\n",
        " (u'see', 8)]"
       ]
      }
     ],
     "prompt_number": 123
    },
    {
     "cell_type": "markdown",
     "metadata": {},
     "source": [
      "**Word Embeddings**"
     ]
    },
    {
     "cell_type": "code",
     "collapsed": false,
     "input": [
      "aNouns = [word for word in review_a if word.pos_.startswith('N')][:150]"
     ],
     "language": "python",
     "metadata": {},
     "outputs": [],
     "prompt_number": 124
    },
    {
     "cell_type": "code",
     "collapsed": false,
     "input": [
      "aNounsVecs = [word.vector for word in aNouns]\n",
      "aNounsLabels = [word.string.strip() for word in aNouns]"
     ],
     "language": "python",
     "metadata": {},
     "outputs": [],
     "prompt_number": 126
    },
    {
     "cell_type": "code",
     "collapsed": false,
     "input": [
      "aNounsVecs[0].shape"
     ],
     "language": "python",
     "metadata": {},
     "outputs": [
      {
       "metadata": {},
       "output_type": "pyout",
       "prompt_number": 127,
       "text": [
        "(300,)"
       ]
      }
     ],
     "prompt_number": 127
    },
    {
     "cell_type": "code",
     "collapsed": false,
     "input": [
      "## Apply SVD\n",
      "lsa = TruncatedSVD(n_components=2)\n",
      "lsaOut = lsa.fit_transform(aNounsVecs)\n",
      "\n",
      "from pylab import rcParams\n",
      "rcParams['figure.figsize'] = 16, 8\n",
      "\n",
      "xs, ys = lsaOut[:,0], lsaOut[:,1]\n",
      "for i in range(len(xs)): \n",
      "    plt.scatter(xs[i], ys[i])\n",
      "    plt.annotate(aNounsLabels[i], (xs[i], ys[i]))"
     ],
     "language": "python",
     "metadata": {},
     "outputs": [
      {
       "metadata": {},
       "output_type": "display_data",
       "png": "[encoded data removed]",
       "text": [
        "<matplotlib.figure.Figure at 0x7fbcaaa65b90>"
       ]
      }
     ],
     "prompt_number": 136
    },
    {
     "cell_type": "code",
     "collapsed": false,
     "input": [],
     "language": "python",
     "metadata": {},
     "outputs": []
    },
    {
     "cell_type": "code",
     "collapsed": false,
     "input": [],
     "language": "python",
     "metadata": {},
     "outputs": []
    },
    {
     "cell_type": "code",
     "collapsed": false,
     "input": [],
     "language": "python",
     "metadata": {},
     "outputs": []
    },
    {
     "cell_type": "code",
     "collapsed": false,
     "input": [],
     "language": "python",
     "metadata": {},
     "outputs": []
    }
   ],
   "metadata": {}
  }
 ]
}