{
 "metadata": {
  "name": "",
  "signature": "sha256:d5b8a4e659ae6fefbf5b71b9d88a3557967fd78cd23d4038a5bc072870865da0"
 },
 "nbformat": 3,
 "nbformat_minor": 0,
 "worksheets": [
  {
   "cells": [
    {
     "cell_type": "code",
     "collapsed": false,
     "input": [
      "## Analyzing user descriptions of top internet based companies from twitter \n",
      "\n",
      "import pandas as pd\n",
      "import seaborn\n",
      "import spacy \n",
      "from pylab import rcParams\n",
      "import operator\n",
      "import numpy \n",
      "import matplotlib.pyplot as plt\n",
      "%matplotlib inline\n",
      "\n",
      "nlp = spacy.load('en')"
     ],
     "language": "python",
     "metadata": {},
     "outputs": [],
     "prompt_number": 2
    },
    {
     "cell_type": "code",
     "collapsed": false,
     "input": [
      "dataset = open(\"../data/meta_data/desc_data.txt\").read().strip().split(\"\\n\")"
     ],
     "language": "python",
     "metadata": {},
     "outputs": [],
     "prompt_number": 5
    },
    {
     "cell_type": "code",
     "collapsed": false,
     "input": [
      "## Basic Cleanup, Finding Semantically Similar Documents "
     ],
     "language": "python",
     "metadata": {},
     "outputs": [],
     "prompt_number": 6
    },
    {
     "cell_type": "code",
     "collapsed": false,
     "input": [
      "lines = [line.split(\"||\") for line in dataset]\n",
      "labels = [line[0] for line in lines]\n",
      "descs = [nlp(unicode(line[1].decode('utf8'))) for line in lines]"
     ],
     "language": "python",
     "metadata": {},
     "outputs": [],
     "prompt_number": 7
    },
    {
     "cell_type": "code",
     "collapsed": false,
     "input": [
      "similarities = [[sent.similarity(other) for other in descs] for sent in descs]\n",
      "sdf = pd.DataFrame(similarities, columns=labels, index=labels)"
     ],
     "language": "python",
     "metadata": {},
     "outputs": [],
     "prompt_number": 8
    },
    {
     "cell_type": "code",
     "collapsed": false,
     "input": [
      "rcParams['figure.figsize'] = 16, 8\n",
      "# seaborn.heatmap(sdf)"
     ],
     "language": "python",
     "metadata": {},
     "outputs": [],
     "prompt_number": 9
    },
    {
     "cell_type": "code",
     "collapsed": false,
     "input": [
      "apples, and_, oranges = nlp(u'apples and oranges')\n",
      "print(apples.vector.shape)\n",
      "apples.similarity(oranges)"
     ],
     "language": "python",
     "metadata": {},
     "outputs": [
      {
       "output_type": "stream",
       "stream": "stdout",
       "text": [
        "(300,)\n"
       ]
      },
      {
       "metadata": {},
       "output_type": "pyout",
       "prompt_number": 10,
       "text": [
        "0.0"
       ]
      }
     ],
     "prompt_number": 10
    },
    {
     "cell_type": "code",
     "collapsed": false,
     "input": [
      "for i, row in sdf.iterrows():\n",
      "    x = dict(row)\n",
      "    sorted_x = sorted(x.items(), key=operator.itemgetter(1), reverse=True)\n",
      "    ra, rb, rc = sorted_x[1], sorted_x[2], sorted_x[3]\n",
      "    if ra[1] > 0.95:\n",
      "        print i, ra"
     ],
     "language": "python",
     "metadata": {},
     "outputs": [
      {
       "output_type": "stream",
       "stream": "stdout",
       "text": [
        "techcrunch ('sitepoint', 0.95141105745770793)\n",
        "stackoverflow ('freelancer.com', 0.9525298694317117)\n",
        "imeem ('freelancer.com', 0.95004428497798843)\n",
        "freelancer.com ('paypal', 0.95963520739031394)\n",
        "zillow ('findthebest', 0.95317852102626544)\n",
        "inc."
       ]
      },
      {
       "output_type": "stream",
       "stream": "stdout",
       "text": [
        " ('paypal', 0.95152306677446352)\n",
        "udemy ('spotify', 0.95928826565647962)\n",
        "lyft ('spotify', 0.96645718110335022)\n",
        "stumbleupon"
       ]
      },
      {
       "output_type": "stream",
       "stream": "stdout",
       "text": [
        " ('freelancer.com', 0.95398701452705792)\n",
        "quora ('facebook', 0.95083594920662695)\n",
        "findthebest ('zillow', 0.95317852102626544)\n",
        "zenefits ('linkedin', 0.95505747138054631)\n",
        "earthlink"
       ]
      },
      {
       "output_type": "stream",
       "stream": "stdout",
       "text": [
        " ('mphasis', 0.95512510328072375)\n",
        "spotify ('lyft', 0.96645718110335022)\n",
        "dropbox"
       ]
      },
      {
       "output_type": "stream",
       "stream": "stdout",
       "text": [
        " ('quip', 0.95208056333637026)\n",
        "ooma ('kazaa', 1.0000000275267158)\n",
        "kazaa ('kazaa', 0.99999999334258283)\n",
        "ask.com ('meetup', 0.9526892371343787)\n",
        "meetup"
       ]
      },
      {
       "output_type": "stream",
       "stream": "stdout",
       "text": [
        " ('ask.com', 0.9526892371343787)\n",
        "paperlesspost ('linkedin', 0.95230756276152029)\n",
        "linkedin ('zenefits', 0.95505747138054631)\n",
        "paypal ('venmo', 0.96399343494729495)\n",
        "facebook ('quora', 0.95083594920662695)\n",
        "domo"
       ]
      },
      {
       "output_type": "stream",
       "stream": "stdout",
       "text": [
        " ('braintree', 0.9515830608990109)\n",
        "braintree ('domo', 0.9515830608990109)\n",
        "lightbank ('paypal', 0.95668105980843743)\n",
        "khanacademy ('spotify', 0.95668193180852978)\n",
        "venmo ('paypal', 0.96399343494729495)\n",
        "about.com"
       ]
      },
      {
       "output_type": "stream",
       "stream": "stdout",
       "text": [
        " ('evernote', 0.95039805273671163)\n",
        "serviceseeking ('evernote', 0.95695979804684794)\n",
        "sitepoint ('techcrunch', 0.95141105745770793)\n",
        "evernote"
       ]
      },
      {
       "output_type": "stream",
       "stream": "stdout",
       "text": [
        " ('quip', 0.96273605299464504)\n",
        "fitbit ('pinterest', 0.95463295142939142)\n",
        "mphasis"
       ]
      },
      {
       "output_type": "stream",
       "stream": "stdout",
       "text": [
        " ('earthlink', 0.95512510328072375)\n",
        "findlaw ('serviceseeking', 0.95343016946181658)\n",
        "pinterest ('fitbit', 0.95463295142939142)\n",
        "quip"
       ]
      },
      {
       "output_type": "stream",
       "stream": "stdout",
       "text": [
        " ('evernote', 0.96273605299464504)\n",
        "opentable ('stumbleupon', 0.95133859731384984)\n"
       ]
      }
     ],
     "prompt_number": 11
    },
    {
     "cell_type": "code",
     "collapsed": false,
     "input": [
      "## TODO \n",
      "\n",
      "## Current Model needs more data of company descriptions, currently only 300 are used"
     ],
     "language": "python",
     "metadata": {},
     "outputs": [],
     "prompt_number": 12
    }
   ],
   "metadata": {}
  }
 ]
}